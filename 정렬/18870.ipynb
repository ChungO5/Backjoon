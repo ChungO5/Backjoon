{
 "cells": [
  {
   "cell_type": "markdown",
   "metadata": {},
   "source": [
    "### 문제\n",
    "수직선 위에 N개의 좌표 X1, X2, ..., XN이 있다. 이 좌표에 좌표 압축을 적용하려고 한다.\n",
    "\n",
    "Xi를 좌표 압축한 결과 X'i의 값은 Xi > Xj를 만족하는 서로 다른 좌표 Xj의 개수와 같아야 한다.\n",
    "\n",
    "X1, X2, ..., XN에 좌표 압축을 적용한 결과 X'1, X'2, ..., X'N를 출력해보자.\n",
    "\n",
    "### 입력\n",
    "첫째 줄에 N이 주어진다.\n",
    "\n",
    "둘째 줄에는 공백 한 칸으로 구분된 X1, X2, ..., XN이 주어진다.\n",
    "\n",
    "### 출력\n",
    "첫째 줄에 X'1, X'2, ..., X'N을 공백 한 칸으로 구분해서 출력한다.\n",
    "\n",
    "### 제한\n",
    "1 ≤ N ≤ 1,000,000\n",
    "-109 ≤ Xi ≤ 109"
   ]
  },
  {
   "cell_type": "code",
   "execution_count": 7,
   "metadata": {},
   "outputs": [
    {
     "name": "stdout",
     "output_type": "stream",
     "text": [
      "1 0 1 0 1 0 "
     ]
    }
   ],
   "source": [
    "N = int(input())\n",
    "L = list(map(int, input().split()))\n",
    "count = 0\n",
    "dic = {}\n",
    "for i in sorted(set(L)):\n",
    "    dic[i] = count\n",
    "    count += 1\n",
    "for i in L:\n",
    "    print(dic[i], end=' ')"
   ]
  }
 ],
 "metadata": {
  "kernelspec": {
   "display_name": "base",
   "language": "python",
   "name": "python3"
  },
  "language_info": {
   "codemirror_mode": {
    "name": "ipython",
    "version": 3
   },
   "file_extension": ".py",
   "mimetype": "text/x-python",
   "name": "python",
   "nbconvert_exporter": "python",
   "pygments_lexer": "ipython3",
   "version": "3.9.13"
  }
 },
 "nbformat": 4,
 "nbformat_minor": 2
}

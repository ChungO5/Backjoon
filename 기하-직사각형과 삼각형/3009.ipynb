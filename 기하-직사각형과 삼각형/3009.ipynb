{
 "cells": [
  {
   "cell_type": "markdown",
   "metadata": {},
   "source": [
    "### 문제\n",
    "세 점이 주어졌을 때, 축에 평행한 직사각형을 만들기 위해서 필요한 네 번째 점을 찾는 프로그램을 작성하시오.\n",
    "\n",
    "### 입력\n",
    "세 점의 좌표가 한 줄에 하나씩 주어진다. 좌표는 1보다 크거나 같고, 1000보다 작거나 같은 정수이다.\n",
    "\n",
    "### 출력\n",
    "직사각형의 네 번째 점의 좌표를 출력한다.\n"
   ]
  },
  {
   "cell_type": "code",
   "execution_count": 9,
   "metadata": {},
   "outputs": [
    {
     "name": "stdout",
     "output_type": "stream",
     "text": [
      "30 10 "
     ]
    }
   ],
   "source": [
    "x_list = []\n",
    "y_list = []\n",
    "\n",
    "for _ in range(3):\n",
    "    x, y = map(int, input().split())\n",
    "    x_list.append(x)\n",
    "    y_list.append(y)\n",
    "\n",
    "for i in range(3):\n",
    "    if x_list.count(x_list[i]) == 1:\n",
    "        print(x_list[i], end=' ')\n",
    "\n",
    "for i in range(3):\n",
    "    if y_list.count(y_list[i]) == 1:\n",
    "        print(y_list[i], end=' ')"
   ]
  },
  {
   "cell_type": "code",
   "execution_count": 11,
   "metadata": {},
   "outputs": [
    {
     "name": "stdout",
     "output_type": "stream",
     "text": [
      "30 10\n"
     ]
    }
   ],
   "source": [
    "x = []\n",
    "y = []\n",
    "\n",
    "for _ in range(3):\n",
    "    a, b = map(int, input().split())\n",
    "    x.append(a)\n",
    "    y.append(b)\n",
    "    \n",
    "print(x[0]^x[1]^x[2], y[0]^y[1]^y[2])"
   ]
  }
 ],
 "metadata": {
  "kernelspec": {
   "display_name": "base",
   "language": "python",
   "name": "python3"
  },
  "language_info": {
   "codemirror_mode": {
    "name": "ipython",
    "version": 3
   },
   "file_extension": ".py",
   "mimetype": "text/x-python",
   "name": "python",
   "nbconvert_exporter": "python",
   "pygments_lexer": "ipython3",
   "version": "3.9.13"
  }
 },
 "nbformat": 4,
 "nbformat_minor": 2
}

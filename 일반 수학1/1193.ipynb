{
 "cells": [
  {
   "cell_type": "markdown",
   "metadata": {},
   "source": [
    "### 문제\n",
    "무한히 큰 배열에 다음과 같이 분수들이 적혀있다.\n",
    "\n",
    "1/1\t1/2\t1/3\t1/4\t1/5\t…\n",
    "2/1\t2/2\t2/3\t2/4\t…\t…\n",
    "3/1\t3/2\t3/3\t…\t…\t…\n",
    "4/1\t4/2\t…\t…\t…\t…\n",
    "5/1\t…\t…\t…\t…\t…\n",
    "…\t…\t…\t…\t…\t…\n",
    "\n",
    "\n",
    "이와 같이 나열된 분수들을 1/1 → 1/2 → 2/1 → 3/1 → 2/2 → … 과 같은 지그재그 순서로 차례대로 1번, 2번, 3번, 4번, 5번, … 분수라고 하자.\n",
    "\n",
    "X가 주어졌을 때, X번째 분수를 구하는 프로그램을 작성하시오.\n",
    "\n",
    "### 입력\n",
    "첫째 줄에 X(1 ≤ X ≤ 10,000,000)가 주어진다.\n",
    "\n",
    "### 출력\n",
    "첫째 줄에 분수를 출력한다.\n"
   ]
  },
  {
   "cell_type": "code",
   "execution_count": 26,
   "metadata": {},
   "outputs": [
    {
     "name": "stdout",
     "output_type": "stream",
     "text": [
      "3/1\n"
     ]
    }
   ],
   "source": [
    "X = int(input())\n",
    "\n",
    "d = 1\n",
    "\n",
    "while X > d:\n",
    "    X -= d\n",
    "    d += 1\n",
    "\n",
    "if d % 2 == 0:\n",
    "    print('%d/%d'%(X, d - X + 1))\n",
    "else:\n",
    "    print('%d/%d'%(d - X + 1, X))\n",
    "    \n",
    "    "
   ]
  }
 ],
 "metadata": {
  "kernelspec": {
   "display_name": "base",
   "language": "python",
   "name": "python3"
  },
  "language_info": {
   "codemirror_mode": {
    "name": "ipython",
    "version": 3
   },
   "file_extension": ".py",
   "mimetype": "text/x-python",
   "name": "python",
   "nbconvert_exporter": "python",
   "pygments_lexer": "ipython3",
   "version": "3.9.13"
  }
 },
 "nbformat": 4,
 "nbformat_minor": 2
}

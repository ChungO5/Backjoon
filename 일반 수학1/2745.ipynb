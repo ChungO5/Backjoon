{
 "cells": [
  {
   "cell_type": "markdown",
   "metadata": {},
   "source": [
    "### 문제\n",
    "B진법 수 N이 주어진다. 이 수를 10진법으로 바꿔 출력하는 프로그램을 작성하시오.\n",
    "\n",
    "10진법을 넘어가는 진법은 숫자로 표시할 수 없는 자리가 있다. 이런 경우에는 다음과 같이 알파벳 대문자를 사용한다.\n",
    "\n",
    "A: 10, B: 11, ..., F: 15, ..., Y: 34, Z: 35\n",
    "\n",
    "### 입력\n",
    "첫째 줄에 N과 B가 주어진다. (2 ≤ B ≤ 36)\n",
    "\n",
    "B진법 수 N을 10진법으로 바꾸면, 항상 10억보다 작거나 같다.\n",
    "\n",
    "### 출력\n",
    "첫째 줄에 B진법 수 N을 10진법으로 출력한다.\n",
    "\n"
   ]
  },
  {
   "cell_type": "code",
   "execution_count": 13,
   "metadata": {},
   "outputs": [
    {
     "name": "stdout",
     "output_type": "stream",
     "text": [
      "60466175\n"
     ]
    }
   ],
   "source": [
    "N, B = input().split()\n",
    "sum = 0\n",
    "for i in range(len(N)):\n",
    "    if ord(N[i]) in range(65,91):\n",
    "        sum += (ord(N[i]) - 55) * (int(B) ** (len(N) - i - 1))\n",
    "    else:\n",
    "        sum += (ord(N[i]) - 48) * (int(B) ** (len(N) - i - 1))\n",
    "print(sum)"
   ]
  },
  {
   "cell_type": "code",
   "execution_count": 14,
   "metadata": {},
   "outputs": [
    {
     "name": "stdout",
     "output_type": "stream",
     "text": [
      "60466175\n"
     ]
    }
   ],
   "source": [
    "N, B = input().split()\n",
    "print(int(N, int(B)))"
   ]
  },
  {
   "cell_type": "code",
   "execution_count": null,
   "metadata": {},
   "outputs": [],
   "source": []
  }
 ],
 "metadata": {
  "kernelspec": {
   "display_name": "base",
   "language": "python",
   "name": "python3"
  },
  "language_info": {
   "codemirror_mode": {
    "name": "ipython",
    "version": 3
   },
   "file_extension": ".py",
   "mimetype": "text/x-python",
   "name": "python",
   "nbconvert_exporter": "python",
   "pygments_lexer": "ipython3",
   "version": "3.9.13"
  }
 },
 "nbformat": 4,
 "nbformat_minor": 2
}

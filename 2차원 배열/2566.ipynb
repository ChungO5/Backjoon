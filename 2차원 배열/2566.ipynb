{
 "cells": [
  {
   "cell_type": "markdown",
   "metadata": {},
   "source": [
    "### 문제\n",
    "<그림 1>과 같이 9×9 격자판에 쓰여진 81개의 자연수 또는 0이 주어질 때, 이들 중 최댓값을 찾고 그 최댓값이 몇 행 몇 열에 위치한 수인지 구하는 프로그램을 작성하시오.\n",
    "\n",
    "예를 들어, 다음과 같이 81개의 수가 주어지면\n",
    "이들 중 최댓값은 90이고, 이 값은 5행 7열에 위치한다.\n",
    "### 입력\n",
    "첫째 줄부터 아홉 번째 줄까지 한 줄에 아홉 개씩 수가 주어진다. 주어지는 수는 100보다 작은 자연수 또는 0이다.\n",
    "### 출력\n",
    "첫째 줄에 최댓값을 출력하고, 둘째 줄에 최댓값이 위치한 행 번호와 열 번호를 빈칸을 사이에 두고 차례로 출력한다. 최댓값이 두 개 이상인 경우 그 중 한 곳의 위치를 출력한다."
   ]
  },
  {
   "cell_type": "code",
   "execution_count": null,
   "metadata": {},
   "outputs": [],
   "source": [
    "arr = []\n",
    "for i in range(9):\n",
    "    arr = arr + list(map(int, input().split()))\n",
    "\n",
    "print(max(arr))\n",
    "print((arr.index(max(arr)) // 9 + 1), (arr.index(max(arr)) % 9 + 1))\n"
   ]
  },
  {
   "cell_type": "code",
   "execution_count": null,
   "metadata": {},
   "outputs": [],
   "source": [
    "arr1 = []\n",
    "for i in range(9):\n",
    "    arr1.append(list(map(int, input().split())))\n",
    "\n",
    "maxN = -1\n",
    "mi = 0\n",
    "mj = 0\n",
    "for i in range(len(arr1)):\n",
    "    for j in range(len(arr1[0])):\n",
    "        if arr1[i][j] > maxN:\n",
    "            maxN = arr1[i][j]\n",
    "            mi = i+1\n",
    "            mj = j+1\n",
    "print(maxN)\n",
    "print(mi, mj)"
   ]
  }
 ],
 "metadata": {
  "kernelspec": {
   "display_name": "base",
   "language": "python",
   "name": "python3"
  },
  "language_info": {
   "codemirror_mode": {
    "name": "ipython",
    "version": 3
   },
   "file_extension": ".py",
   "mimetype": "text/x-python",
   "name": "python",
   "nbconvert_exporter": "python",
   "pygments_lexer": "ipython3",
   "version": "3.9.13"
  }
 },
 "nbformat": 4,
 "nbformat_minor": 2
}

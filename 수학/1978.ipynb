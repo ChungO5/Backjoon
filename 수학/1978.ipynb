{
 "cells": [
  {
   "cell_type": "markdown",
   "metadata": {},
   "source": [
    "### 문제\n",
    "주어진 수 N개 중에서 소수가 몇 개인지 찾아서 출력하는 프로그램을 작성하시오.\n",
    "\n",
    "### 입력\n",
    "첫 줄에 수의 개수 N이 주어진다. N은 100이하이다. 다음으로 N개의 수가 주어지는데 수는 1,000 이하의 자연수이다.\n",
    "\n",
    "### 출력\n",
    "주어진 수들 중 소수의 개수를 출력한다."
   ]
  },
  {
   "cell_type": "code",
   "execution_count": null,
   "metadata": {},
   "outputs": [],
   "source": [
    "def FinePrime(n, m):\n",
    "    x = 0\n",
    "    for i in m:\n",
    "        if i == 1:\n",
    "            x += 1\n",
    "        for j in range(2, i):\n",
    "            if i % j == 0:\n",
    "                x += 1\n",
    "                break\n",
    "    return n-x\n",
    "\n",
    "n = int(input())\n",
    "m = list(map(int, input().split()))\n",
    "\n",
    "print(FinePrime(n, m))"
   ]
  }
 ],
 "metadata": {
  "kernelspec": {
   "display_name": "base",
   "language": "python",
   "name": "python3"
  },
  "language_info": {
   "name": "python",
   "version": "3.9.13"
  }
 },
 "nbformat": 4,
 "nbformat_minor": 2
}

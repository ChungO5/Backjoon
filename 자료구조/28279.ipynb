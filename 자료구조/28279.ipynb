{
 "cells": [
  {
   "cell_type": "markdown",
   "metadata": {},
   "source": [
    "### 문제\n",
    "정수를 저장하는 덱을 구현한 다음, 입력으로 주어지는 명령을 처리하는 프로그램을 작성하시오.\n",
    "\n",
    "명령은 총 여덟 가지이다.\n",
    "\n",
    "1. X: 정수 X를 덱의 앞에 넣는다. (1 ≤ X ≤ 100,000)\n",
    "2. X: 정수 X를 덱의 뒤에 넣는다. (1 ≤ X ≤ 100,000)\n",
    "3. 덱에 정수가 있다면 맨 앞의 정수를 빼고 출력한다. 없다면 -1을 대신 출력한다.\n",
    "4. 덱에 정수가 있다면 맨 뒤의 정수를 빼고 출력한다. 없다면 -1을 대신 출력한다.\n",
    "5. 덱에 들어있는 정수의 개수를 출력한다.\n",
    "6.  덱이 비어있으면 1, 아니면 0을 출력한다.\n",
    "7. 덱에 정수가 있다면 맨 앞의 정수를 출력한다. 없다면 -1을 대신 출력한다.\n",
    "8. 덱에 정수가 있다면 맨 뒤의 정수를 출력한다. 없다면 -1을 대신 출력한다.\n",
    "입력\n",
    "첫째 줄에 명령의 수 N이 주어진다. (1 ≤ N ≤ 1,000,000)\n",
    "\n",
    "둘째 줄부터 N개 줄에 명령이 하나씩 주어진다.\n",
    "\n",
    "출력을 요구하는 명령은 하나 이상 주어진다.\n",
    "\n",
    "출력\n",
    "출력을 요구하는 명령이 주어질 때마다 명령의 결과를 한 줄에 하나씩 출력한다."
   ]
  },
  {
   "cell_type": "code",
   "execution_count": 2,
   "metadata": {},
   "outputs": [
    {
     "name": "stdout",
     "output_type": "stream",
     "text": [
      "1\n",
      "8\n",
      "3\n",
      "8\n",
      "3\n",
      "5\n",
      "3\n"
     ]
    }
   ],
   "source": [
    "from collections import deque\n",
    "N = int(input())\n",
    "deck = deque()\n",
    "for _ in range(N):\n",
    "    commend = tuple(map(int, input().split()))\n",
    "    if commend[0] == 1:\n",
    "        deck.appendleft(commend[1])\n",
    "    elif commend[0] == 2:\n",
    "            deck.append(commend[1])\n",
    "    elif commend[0] == 3:\n",
    "        try:\n",
    "            print(deck.popleft())\n",
    "        except IndexError:\n",
    "            print(-1)\n",
    "    elif commend[0] == 4:\n",
    "        try:\n",
    "            print(deck.pop())\n",
    "        except IndexError:\n",
    "            print(-1)\n",
    "    elif commend[0] == 5:\n",
    "        print(len(deck))\n",
    "    elif commend[0] == 6:\n",
    "        if len(deck) == 0:\n",
    "            print(1)\n",
    "        else:\n",
    "            print(0)\n",
    "    elif commend[0] == 7:\n",
    "        try:\n",
    "            print(deck[0])\n",
    "        except IndexError:\n",
    "            print(-1)\n",
    "    elif commend[0] == 8:\n",
    "        try:\n",
    "            print(deck[-1])\n",
    "        except IndexError:\n",
    "            print(-1)"
   ]
  },
  {
   "cell_type": "code",
   "execution_count": null,
   "metadata": {},
   "outputs": [],
   "source": [
    "from collections import deque\n",
    "import sys\n",
    "N = int(input())\n",
    "deck = deque()\n",
    "for _ in range(N):\n",
    "    commend = tuple(map(int, sys.stdin.readline().split()))\n",
    "    if commend[0] == 1:\n",
    "        deck.appendleft(commend[1])\n",
    "    elif commend[0] == 2:\n",
    "            deck.append(commend[1])\n",
    "    elif commend[0] == 3:\n",
    "        try:\n",
    "            print(deck.popleft())\n",
    "        except IndexError:\n",
    "            print(-1)\n",
    "    elif commend[0] == 4:\n",
    "        try:\n",
    "            print(deck.pop())\n",
    "        except IndexError:\n",
    "            print(-1)\n",
    "    elif commend[0] == 5:\n",
    "        print(len(deck))\n",
    "    elif commend[0] == 6:\n",
    "        if len(deck) == 0:\n",
    "            print(1)\n",
    "        else:\n",
    "            print(0)\n",
    "    elif commend[0] == 7:\n",
    "        try:\n",
    "            print(deck[0])\n",
    "        except IndexError:\n",
    "            print(-1)\n",
    "    elif commend[0] == 8:\n",
    "        try:\n",
    "            print(deck[-1])\n",
    "        except IndexError:\n",
    "            print(-1)"
   ]
  }
 ],
 "metadata": {
  "kernelspec": {
   "display_name": "base",
   "language": "python",
   "name": "python3"
  },
  "language_info": {
   "codemirror_mode": {
    "name": "ipython",
    "version": 3
   },
   "file_extension": ".py",
   "mimetype": "text/x-python",
   "name": "python",
   "nbconvert_exporter": "python",
   "pygments_lexer": "ipython3",
   "version": "3.9.13"
  }
 },
 "nbformat": 4,
 "nbformat_minor": 2
}
